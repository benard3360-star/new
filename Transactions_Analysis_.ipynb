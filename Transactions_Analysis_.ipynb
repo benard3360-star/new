{
  "nbformat": 4,
  "nbformat_minor": 0,
  "metadata": {
    "colab": {
      "provenance": [],
      "mount_file_id": "1FHg7hu_xygqQFNTnoCiF9enSdEz4HeeZ",
      "authorship_tag": "ABX9TyNgILdH4GuDbbePqyfOLv9a",
      "include_colab_link": true
    },
    "kernelspec": {
      "name": "python3",
      "display_name": "Python 3"
    },
    "language_info": {
      "name": "python"
    }
  },
  "cells": [
    {
      "cell_type": "markdown",
      "metadata": {
        "id": "view-in-github",
        "colab_type": "text"
      },
      "source": [
        "<a href=\"https://colab.research.google.com/github/benard3360-star/new/blob/main/Transactions_Analysis_.ipynb\" target=\"_parent\"><img src=\"https://colab.research.google.com/assets/colab-badge.svg\" alt=\"Open In Colab\"/></a>"
      ]
    },
    {
      "cell_type": "markdown",
      "source": [
        "# Importing the Dataset"
      ],
      "metadata": {
        "id": "CK0kWY6OPdmn"
      }
    },
    {
      "cell_type": "code",
      "source": [
        "import pandas as pd\n",
        "import numpy as np\n",
        "import matplotlib.pyplot as plt\n",
        "\n",
        "df = pd.read_csv(\"/content/drive/MyDrive/Projects/workings.csv\")\n",
        "df.head()"
      ],
      "metadata": {
        "colab": {
          "base_uri": "https://localhost:8080/",
          "height": 469
        },
        "id": "PYtH4YUaPyRp",
        "outputId": "c73447fd-721f-4257-b174-d2d57b4a0d07"
      },
      "execution_count": 6,
      "outputs": [
        {
          "output_type": "execute_result",
          "data": {
            "text/plain": [
              "    BENE ACCOUNT                                          BENE NAMES  \\\n",
              "0  88nb4448551258            AHMED ALI ABDI\\r\\nNAIROBI\\r\\nNAIROBI KE   \n",
              "1        8.89E+13  OLOLO LIMITED\\r\\nSOUTH OF NAIROBI NATIONAL PAR...   \n",
              "2  883884789512nb                         BHALLA POOJA JUGAL KISHORE   \n",
              "3        8.89E+13  KITICH CAMP LIMITED (USD)\\r\\nIM BANK KENYA 302...   \n",
              "4  8198nb53131211                         TWIGA CAR HIRE   TOURS LTD   \n",
              "\n",
              "                                            REMITTER  MESSAGE TYPE  \\\n",
              "0  SAFARI INTERNATIONAL GROCERY STORE\\r\\nLLC\\r\\n1...           103   \n",
              "1  THE WILD SOURCE, LLC 801 14TH\\r\\nSTREET GOLDEN...           103   \n",
              "2  INTERNATIONAL ORGANIZATION FOR\\r\\nMIGRATION-PA...           104   \n",
              "3  OLIVER MARKHAM 53 RODWELL ROAD LOND\\r\\nON SE22...           103   \n",
              "4  COLLECTIVE RISING LEADERSHIP\\r\\n1015 2939 VAN ...           103   \n",
              "\n",
              "  SENDER BIC CODE      SENDERS REF  VALUE DATE CURR   AMOUNT   \n",
              "0     CHASUS33XXX      3572954145ES  24-May-24  USD  3,500.00  \n",
              "1     BKTRUS33XXX  C332289OCP852424  24-May-24  USD       646  \n",
              "2     SCBLUS33XXX          2.82E+15  24-May-24  USD  5,741.79  \n",
              "3     CHASUS33XXX      8616388145JO  24-May-24  USD       616  \n",
              "4     CITIUS33XXX    G8141454423381  24-May-24  USD  8,304.00  "
            ],
            "text/html": [
              "\n",
              "  <div id=\"df-3c0c0d5f-5582-47a6-8bf7-06a8f45556ce\" class=\"colab-df-container\">\n",
              "    <div>\n",
              "<style scoped>\n",
              "    .dataframe tbody tr th:only-of-type {\n",
              "        vertical-align: middle;\n",
              "    }\n",
              "\n",
              "    .dataframe tbody tr th {\n",
              "        vertical-align: top;\n",
              "    }\n",
              "\n",
              "    .dataframe thead th {\n",
              "        text-align: right;\n",
              "    }\n",
              "</style>\n",
              "<table border=\"1\" class=\"dataframe\">\n",
              "  <thead>\n",
              "    <tr style=\"text-align: right;\">\n",
              "      <th></th>\n",
              "      <th>BENE ACCOUNT</th>\n",
              "      <th>BENE NAMES</th>\n",
              "      <th>REMITTER</th>\n",
              "      <th>MESSAGE TYPE</th>\n",
              "      <th>SENDER BIC CODE</th>\n",
              "      <th>SENDERS REF</th>\n",
              "      <th>VALUE DATE</th>\n",
              "      <th>CURR</th>\n",
              "      <th>AMOUNT</th>\n",
              "    </tr>\n",
              "  </thead>\n",
              "  <tbody>\n",
              "    <tr>\n",
              "      <th>0</th>\n",
              "      <td>88nb4448551258</td>\n",
              "      <td>AHMED ALI ABDI\\r\\nNAIROBI\\r\\nNAIROBI KE</td>\n",
              "      <td>SAFARI INTERNATIONAL GROCERY STORE\\r\\nLLC\\r\\n1...</td>\n",
              "      <td>103</td>\n",
              "      <td>CHASUS33XXX</td>\n",
              "      <td>3572954145ES</td>\n",
              "      <td>24-May-24</td>\n",
              "      <td>USD</td>\n",
              "      <td>3,500.00</td>\n",
              "    </tr>\n",
              "    <tr>\n",
              "      <th>1</th>\n",
              "      <td>8.89E+13</td>\n",
              "      <td>OLOLO LIMITED\\r\\nSOUTH OF NAIROBI NATIONAL PAR...</td>\n",
              "      <td>THE WILD SOURCE, LLC 801 14TH\\r\\nSTREET GOLDEN...</td>\n",
              "      <td>103</td>\n",
              "      <td>BKTRUS33XXX</td>\n",
              "      <td>C332289OCP852424</td>\n",
              "      <td>24-May-24</td>\n",
              "      <td>USD</td>\n",
              "      <td>646</td>\n",
              "    </tr>\n",
              "    <tr>\n",
              "      <th>2</th>\n",
              "      <td>883884789512nb</td>\n",
              "      <td>BHALLA POOJA JUGAL KISHORE</td>\n",
              "      <td>INTERNATIONAL ORGANIZATION FOR\\r\\nMIGRATION-PA...</td>\n",
              "      <td>104</td>\n",
              "      <td>SCBLUS33XXX</td>\n",
              "      <td>2.82E+15</td>\n",
              "      <td>24-May-24</td>\n",
              "      <td>USD</td>\n",
              "      <td>5,741.79</td>\n",
              "    </tr>\n",
              "    <tr>\n",
              "      <th>3</th>\n",
              "      <td>8.89E+13</td>\n",
              "      <td>KITICH CAMP LIMITED (USD)\\r\\nIM BANK KENYA 302...</td>\n",
              "      <td>OLIVER MARKHAM 53 RODWELL ROAD LOND\\r\\nON SE22...</td>\n",
              "      <td>103</td>\n",
              "      <td>CHASUS33XXX</td>\n",
              "      <td>8616388145JO</td>\n",
              "      <td>24-May-24</td>\n",
              "      <td>USD</td>\n",
              "      <td>616</td>\n",
              "    </tr>\n",
              "    <tr>\n",
              "      <th>4</th>\n",
              "      <td>8198nb53131211</td>\n",
              "      <td>TWIGA CAR HIRE   TOURS LTD</td>\n",
              "      <td>COLLECTIVE RISING LEADERSHIP\\r\\n1015 2939 VAN ...</td>\n",
              "      <td>103</td>\n",
              "      <td>CITIUS33XXX</td>\n",
              "      <td>G8141454423381</td>\n",
              "      <td>24-May-24</td>\n",
              "      <td>USD</td>\n",
              "      <td>8,304.00</td>\n",
              "    </tr>\n",
              "  </tbody>\n",
              "</table>\n",
              "</div>\n",
              "    <div class=\"colab-df-buttons\">\n",
              "\n",
              "  <div class=\"colab-df-container\">\n",
              "    <button class=\"colab-df-convert\" onclick=\"convertToInteractive('df-3c0c0d5f-5582-47a6-8bf7-06a8f45556ce')\"\n",
              "            title=\"Convert this dataframe to an interactive table.\"\n",
              "            style=\"display:none;\">\n",
              "\n",
              "  <svg xmlns=\"http://www.w3.org/2000/svg\" height=\"24px\" viewBox=\"0 -960 960 960\">\n",
              "    <path d=\"M120-120v-720h720v720H120Zm60-500h600v-160H180v160Zm220 220h160v-160H400v160Zm0 220h160v-160H400v160ZM180-400h160v-160H180v160Zm440 0h160v-160H620v160ZM180-180h160v-160H180v160Zm440 0h160v-160H620v160Z\"/>\n",
              "  </svg>\n",
              "    </button>\n",
              "\n",
              "  <style>\n",
              "    .colab-df-container {\n",
              "      display:flex;\n",
              "      gap: 12px;\n",
              "    }\n",
              "\n",
              "    .colab-df-convert {\n",
              "      background-color: #E8F0FE;\n",
              "      border: none;\n",
              "      border-radius: 50%;\n",
              "      cursor: pointer;\n",
              "      display: none;\n",
              "      fill: #1967D2;\n",
              "      height: 32px;\n",
              "      padding: 0 0 0 0;\n",
              "      width: 32px;\n",
              "    }\n",
              "\n",
              "    .colab-df-convert:hover {\n",
              "      background-color: #E2EBFA;\n",
              "      box-shadow: 0px 1px 2px rgba(60, 64, 67, 0.3), 0px 1px 3px 1px rgba(60, 64, 67, 0.15);\n",
              "      fill: #174EA6;\n",
              "    }\n",
              "\n",
              "    .colab-df-buttons div {\n",
              "      margin-bottom: 4px;\n",
              "    }\n",
              "\n",
              "    [theme=dark] .colab-df-convert {\n",
              "      background-color: #3B4455;\n",
              "      fill: #D2E3FC;\n",
              "    }\n",
              "\n",
              "    [theme=dark] .colab-df-convert:hover {\n",
              "      background-color: #434B5C;\n",
              "      box-shadow: 0px 1px 3px 1px rgba(0, 0, 0, 0.15);\n",
              "      filter: drop-shadow(0px 1px 2px rgba(0, 0, 0, 0.3));\n",
              "      fill: #FFFFFF;\n",
              "    }\n",
              "  </style>\n",
              "\n",
              "    <script>\n",
              "      const buttonEl =\n",
              "        document.querySelector('#df-3c0c0d5f-5582-47a6-8bf7-06a8f45556ce button.colab-df-convert');\n",
              "      buttonEl.style.display =\n",
              "        google.colab.kernel.accessAllowed ? 'block' : 'none';\n",
              "\n",
              "      async function convertToInteractive(key) {\n",
              "        const element = document.querySelector('#df-3c0c0d5f-5582-47a6-8bf7-06a8f45556ce');\n",
              "        const dataTable =\n",
              "          await google.colab.kernel.invokeFunction('convertToInteractive',\n",
              "                                                    [key], {});\n",
              "        if (!dataTable) return;\n",
              "\n",
              "        const docLinkHtml = 'Like what you see? Visit the ' +\n",
              "          '<a target=\"_blank\" href=https://colab.research.google.com/notebooks/data_table.ipynb>data table notebook</a>'\n",
              "          + ' to learn more about interactive tables.';\n",
              "        element.innerHTML = '';\n",
              "        dataTable['output_type'] = 'display_data';\n",
              "        await google.colab.output.renderOutput(dataTable, element);\n",
              "        const docLink = document.createElement('div');\n",
              "        docLink.innerHTML = docLinkHtml;\n",
              "        element.appendChild(docLink);\n",
              "      }\n",
              "    </script>\n",
              "  </div>\n",
              "\n",
              "\n",
              "<div id=\"df-4c463b93-7043-4a1b-9875-06ac3bf45258\">\n",
              "  <button class=\"colab-df-quickchart\" onclick=\"quickchart('df-4c463b93-7043-4a1b-9875-06ac3bf45258')\"\n",
              "            title=\"Suggest charts\"\n",
              "            style=\"display:none;\">\n",
              "\n",
              "<svg xmlns=\"http://www.w3.org/2000/svg\" height=\"24px\"viewBox=\"0 0 24 24\"\n",
              "     width=\"24px\">\n",
              "    <g>\n",
              "        <path d=\"M19 3H5c-1.1 0-2 .9-2 2v14c0 1.1.9 2 2 2h14c1.1 0 2-.9 2-2V5c0-1.1-.9-2-2-2zM9 17H7v-7h2v7zm4 0h-2V7h2v10zm4 0h-2v-4h2v4z\"/>\n",
              "    </g>\n",
              "</svg>\n",
              "  </button>\n",
              "\n",
              "<style>\n",
              "  .colab-df-quickchart {\n",
              "      --bg-color: #E8F0FE;\n",
              "      --fill-color: #1967D2;\n",
              "      --hover-bg-color: #E2EBFA;\n",
              "      --hover-fill-color: #174EA6;\n",
              "      --disabled-fill-color: #AAA;\n",
              "      --disabled-bg-color: #DDD;\n",
              "  }\n",
              "\n",
              "  [theme=dark] .colab-df-quickchart {\n",
              "      --bg-color: #3B4455;\n",
              "      --fill-color: #D2E3FC;\n",
              "      --hover-bg-color: #434B5C;\n",
              "      --hover-fill-color: #FFFFFF;\n",
              "      --disabled-bg-color: #3B4455;\n",
              "      --disabled-fill-color: #666;\n",
              "  }\n",
              "\n",
              "  .colab-df-quickchart {\n",
              "    background-color: var(--bg-color);\n",
              "    border: none;\n",
              "    border-radius: 50%;\n",
              "    cursor: pointer;\n",
              "    display: none;\n",
              "    fill: var(--fill-color);\n",
              "    height: 32px;\n",
              "    padding: 0;\n",
              "    width: 32px;\n",
              "  }\n",
              "\n",
              "  .colab-df-quickchart:hover {\n",
              "    background-color: var(--hover-bg-color);\n",
              "    box-shadow: 0 1px 2px rgba(60, 64, 67, 0.3), 0 1px 3px 1px rgba(60, 64, 67, 0.15);\n",
              "    fill: var(--button-hover-fill-color);\n",
              "  }\n",
              "\n",
              "  .colab-df-quickchart-complete:disabled,\n",
              "  .colab-df-quickchart-complete:disabled:hover {\n",
              "    background-color: var(--disabled-bg-color);\n",
              "    fill: var(--disabled-fill-color);\n",
              "    box-shadow: none;\n",
              "  }\n",
              "\n",
              "  .colab-df-spinner {\n",
              "    border: 2px solid var(--fill-color);\n",
              "    border-color: transparent;\n",
              "    border-bottom-color: var(--fill-color);\n",
              "    animation:\n",
              "      spin 1s steps(1) infinite;\n",
              "  }\n",
              "\n",
              "  @keyframes spin {\n",
              "    0% {\n",
              "      border-color: transparent;\n",
              "      border-bottom-color: var(--fill-color);\n",
              "      border-left-color: var(--fill-color);\n",
              "    }\n",
              "    20% {\n",
              "      border-color: transparent;\n",
              "      border-left-color: var(--fill-color);\n",
              "      border-top-color: var(--fill-color);\n",
              "    }\n",
              "    30% {\n",
              "      border-color: transparent;\n",
              "      border-left-color: var(--fill-color);\n",
              "      border-top-color: var(--fill-color);\n",
              "      border-right-color: var(--fill-color);\n",
              "    }\n",
              "    40% {\n",
              "      border-color: transparent;\n",
              "      border-right-color: var(--fill-color);\n",
              "      border-top-color: var(--fill-color);\n",
              "    }\n",
              "    60% {\n",
              "      border-color: transparent;\n",
              "      border-right-color: var(--fill-color);\n",
              "    }\n",
              "    80% {\n",
              "      border-color: transparent;\n",
              "      border-right-color: var(--fill-color);\n",
              "      border-bottom-color: var(--fill-color);\n",
              "    }\n",
              "    90% {\n",
              "      border-color: transparent;\n",
              "      border-bottom-color: var(--fill-color);\n",
              "    }\n",
              "  }\n",
              "</style>\n",
              "\n",
              "  <script>\n",
              "    async function quickchart(key) {\n",
              "      const quickchartButtonEl =\n",
              "        document.querySelector('#' + key + ' button');\n",
              "      quickchartButtonEl.disabled = true;  // To prevent multiple clicks.\n",
              "      quickchartButtonEl.classList.add('colab-df-spinner');\n",
              "      try {\n",
              "        const charts = await google.colab.kernel.invokeFunction(\n",
              "            'suggestCharts', [key], {});\n",
              "      } catch (error) {\n",
              "        console.error('Error during call to suggestCharts:', error);\n",
              "      }\n",
              "      quickchartButtonEl.classList.remove('colab-df-spinner');\n",
              "      quickchartButtonEl.classList.add('colab-df-quickchart-complete');\n",
              "    }\n",
              "    (() => {\n",
              "      let quickchartButtonEl =\n",
              "        document.querySelector('#df-4c463b93-7043-4a1b-9875-06ac3bf45258 button');\n",
              "      quickchartButtonEl.style.display =\n",
              "        google.colab.kernel.accessAllowed ? 'block' : 'none';\n",
              "    })();\n",
              "  </script>\n",
              "</div>\n",
              "\n",
              "    </div>\n",
              "  </div>\n"
            ],
            "application/vnd.google.colaboratory.intrinsic+json": {
              "type": "dataframe",
              "variable_name": "df",
              "summary": "{\n  \"name\": \"df\",\n  \"rows\": 4784,\n  \"fields\": [\n    {\n      \"column\": \"BENE ACCOUNT \",\n      \"properties\": {\n        \"dtype\": \"category\",\n        \"num_unique_values\": 1720,\n        \"samples\": [\n          \"811288816337nb\",\n          \"832818418912nb\",\n          \"81nb18847512nb\"\n        ],\n        \"semantic_type\": \"\",\n        \"description\": \"\"\n      }\n    },\n    {\n      \"column\": \"BENE NAMES\",\n      \"properties\": {\n        \"dtype\": \"string\",\n        \"num_unique_values\": 4038,\n        \"samples\": [\n          \"GEORGE FRANCISCO MARTIS\\r\\nPLOT 56, AREA 6, BAPU APTMS. 3\\r\\nLILONGWE\\r\\nREPUBLIC OF MALAWI\",\n          \"LILIANE AWUOR OCHIENG\",\n          \"AICARE TELEMATICS LIMITED\\r\\nABC PLACE, 10TH FLOOR, WAIYAKI WAY,\\r\\nNAIROBI 00100 KE\"\n        ],\n        \"semantic_type\": \"\",\n        \"description\": \"\"\n      }\n    },\n    {\n      \"column\": \"REMITTER\",\n      \"properties\": {\n        \"dtype\": \"string\",\n        \"num_unique_values\": 3306,\n        \"samples\": [\n          \"EQUATOR AFRICA, LLC\\r\\n2520 NANCY GRAY AVE\\r\\nFORT COLLINS CO 80525-4383 US\",\n          \"EXXELO EXIM\\r\\nB 601,MONDEAL HEIGHTS,SG HIGHWAY,AH\\r\\nMEDABAD AHMEDABAD\\r\\nINDIA\",\n          \"1/Aartsen Breda B.V.\\r\\n2/Heilaar-Noordweg,9\\r\\n3/NL/BREDA,4814 RR\"\n        ],\n        \"semantic_type\": \"\",\n        \"description\": \"\"\n      }\n    },\n    {\n      \"column\": \"MESSAGE TYPE\",\n      \"properties\": {\n        \"dtype\": \"number\",\n        \"std\": 1,\n        \"min\": 1,\n        \"max\": 104,\n        \"num_unique_values\": 3,\n        \"samples\": [\n          103,\n          104,\n          1\n        ],\n        \"semantic_type\": \"\",\n        \"description\": \"\"\n      }\n    },\n    {\n      \"column\": \"SENDER BIC CODE\",\n      \"properties\": {\n        \"dtype\": \"category\",\n        \"num_unique_values\": 49,\n        \"samples\": [\n          \"BARCGB22XXX\",\n          \"IFCBKENAXXX\",\n          \"SCBLSG22XXX\"\n        ],\n        \"semantic_type\": \"\",\n        \"description\": \"\"\n      }\n    },\n    {\n      \"column\": \"SENDERS REF \",\n      \"properties\": {\n        \"dtype\": \"string\",\n        \"num_unique_values\": 3407,\n        \"samples\": [\n          \"6799788145JO\",\n          \"ZD81629E44178485\",\n          \"8519288137JO\"\n        ],\n        \"semantic_type\": \"\",\n        \"description\": \"\"\n      }\n    },\n    {\n      \"column\": \"VALUE DATE\",\n      \"properties\": {\n        \"dtype\": \"object\",\n        \"num_unique_values\": 14,\n        \"samples\": [\n          \"16-May-24\",\n          \"14-May-24\",\n          \"24-May-24\"\n        ],\n        \"semantic_type\": \"\",\n        \"description\": \"\"\n      }\n    },\n    {\n      \"column\": \"CURR\",\n      \"properties\": {\n        \"dtype\": \"category\",\n        \"num_unique_values\": 10,\n        \"samples\": [\n          \"AED\",\n          \"KES\",\n          \"CHF\"\n        ],\n        \"semantic_type\": \"\",\n        \"description\": \"\"\n      }\n    },\n    {\n      \"column\": \"AMOUNT \",\n      \"properties\": {\n        \"dtype\": \"string\",\n        \"num_unique_values\": 3677,\n        \"samples\": [\n          \"670\",\n          \"10,946.26\",\n          \"1,527,687.74\"\n        ],\n        \"semantic_type\": \"\",\n        \"description\": \"\"\n      }\n    }\n  ]\n}"
            }
          },
          "metadata": {},
          "execution_count": 6
        }
      ]
    },
    {
      "cell_type": "markdown",
      "source": [
        "## Cleaning the Dataset"
      ],
      "metadata": {
        "id": "XCZxcaFFQweh"
      }
    },
    {
      "cell_type": "code",
      "source": [
        "# Display column names and data types\n",
        "print(df.dtypes)"
      ],
      "metadata": {
        "colab": {
          "base_uri": "https://localhost:8080/"
        },
        "id": "7dSbI_yYQ9s9",
        "outputId": "cddc1bc0-585c-4872-8325-d5380303c569"
      },
      "execution_count": 24,
      "outputs": [
        {
          "output_type": "stream",
          "name": "stdout",
          "text": [
            "BENE ACCOUNT               object\n",
            "BENE NAMES                 object\n",
            "REMITTER                   object\n",
            "MESSAGE TYPE                int64\n",
            "SENDER BIC CODE            object\n",
            "SENDERS REF                object\n",
            "VALUE DATE         datetime64[ns]\n",
            "CURR                       object\n",
            "AMOUNT                    float64\n",
            "dtype: object\n"
          ]
        }
      ]
    },
    {
      "cell_type": "code",
      "source": [
        "print('Column names:')\n",
        "print(df.columns)\n",
        "\n",
        "# Find unique message types\n",
        "print('\\\n",
        "Unique message types:')\n",
        "print(df['MESSAGE TYPE'].unique())\n",
        "\n",
        "# Display the count of each message type\n",
        "print('\\\n",
        "Count of each message type:')\n",
        "print(df['MESSAGE TYPE'].value_counts())"
      ],
      "metadata": {
        "colab": {
          "base_uri": "https://localhost:8080/"
        },
        "id": "D4fHUj9ySUTo",
        "outputId": "0d7f4d6f-f095-4ead-ba94-b67c302aed28"
      },
      "execution_count": 11,
      "outputs": [
        {
          "output_type": "stream",
          "name": "stdout",
          "text": [
            "Column names:\n",
            "Index(['BENE ACCOUNT ', 'BENE NAMES', 'REMITTER', 'MESSAGE TYPE',\n",
            "       'SENDER BIC CODE', 'SENDERS REF ', 'VALUE DATE', 'CURR', 'AMOUNT '],\n",
            "      dtype='object')\n",
            "Unique message types:\n",
            "[103 104   1]\n",
            "Count of each message type:\n",
            "MESSAGE TYPE\n",
            "103    4781\n",
            "104       2\n",
            "1         1\n",
            "Name: count, dtype: int64\n"
          ]
        }
      ]
    },
    {
      "cell_type": "code",
      "source": [
        "\n",
        "# Clean column names by stripping whitespace\n",
        "df.columns = df.columns.str.strip()\n",
        "\n",
        "# Clean the 'AMOUNT' column\n",
        "df['AMOUNT'] = df['AMOUNT'].str.replace(',', '').astype(float)"
      ],
      "metadata": {
        "colab": {
          "base_uri": "https://localhost:8080/"
        },
        "id": "s0DgGFeCS0mB",
        "outputId": "a47c029c-b4ce-434a-8122-0a9994e2b88b"
      },
      "execution_count": 15,
      "outputs": [
        {
          "output_type": "stream",
          "name": "stdout",
          "text": [
            "Updated data types:\n",
            "BENE ACCOUNT               object\n",
            "BENE NAMES                 object\n",
            "REMITTER                   object\n",
            "MESSAGE TYPE                int64\n",
            "SENDER BIC CODE            object\n",
            "SENDERS REF                object\n",
            "VALUE DATE         datetime64[ns]\n",
            "CURR                       object\n",
            "AMOUNT                    float64\n",
            "dtype: object\n",
            "Summary statistics:\n",
            "       MESSAGE TYPE                     VALUE DATE        AMOUNT\n",
            "count   4784.000000                           4783  4.783000e+03\n",
            "mean     102.979097  2024-05-18 20:08:28.802007040  8.232133e+05\n",
            "min        1.000000            2024-05-10 00:00:00  1.000000e+00\n",
            "25%      103.000000            2024-05-15 00:00:00  1.186325e+03\n",
            "50%      103.000000            2024-05-20 00:00:00  4.474000e+03\n",
            "75%      103.000000            2024-05-22 00:00:00  1.996557e+04\n",
            "max      104.000000            2024-05-29 00:00:00  3.118810e+08\n",
            "std        1.474851                            NaN  8.936609e+06\n",
            "First few rows of cleaned dataframe:\n",
            "     BENE ACCOUNT                                         BENE NAMES  \\\n",
            "0  88nb4448551258            AHMED ALI ABDI\\r\\nNAIROBI\\r\\nNAIROBI KE   \n",
            "1        8.89E+13  OLOLO LIMITED\\r\\nSOUTH OF NAIROBI NATIONAL PAR...   \n",
            "2  883884789512nb                         BHALLA POOJA JUGAL KISHORE   \n",
            "3        8.89E+13  KITICH CAMP LIMITED (USD)\\r\\nIM BANK KENYA 302...   \n",
            "4  8198nb53131211                         TWIGA CAR HIRE   TOURS LTD   \n",
            "\n",
            "                                            REMITTER  MESSAGE TYPE  \\\n",
            "0  SAFARI INTERNATIONAL GROCERY STORE\\r\\nLLC\\r\\n1...           103   \n",
            "1  THE WILD SOURCE, LLC 801 14TH\\r\\nSTREET GOLDEN...           103   \n",
            "2  INTERNATIONAL ORGANIZATION FOR\\r\\nMIGRATION-PA...           104   \n",
            "3  OLIVER MARKHAM 53 RODWELL ROAD LOND\\r\\nON SE22...           103   \n",
            "4  COLLECTIVE RISING LEADERSHIP\\r\\n1015 2939 VAN ...           103   \n",
            "\n",
            "  SENDER BIC CODE       SENDERS REF VALUE DATE CURR   AMOUNT  \n",
            "0     CHASUS33XXX      3572954145ES 2024-05-24  USD  3500.00  \n",
            "1     BKTRUS33XXX  C332289OCP852424 2024-05-24  USD   646.00  \n",
            "2     SCBLUS33XXX          2.82E+15 2024-05-24  USD  5741.79  \n",
            "3     CHASUS33XXX      8616388145JO 2024-05-24  USD   616.00  \n",
            "4     CITIUS33XXX    G8141454423381 2024-05-24  USD  8304.00  \n",
            "Total amount: $3,937,429,233.58\n",
            "Average amount: $823,213.30\n",
            "Number of unique beneficiaries: 4038\n",
            "Most common currency: USD\n"
          ]
        }
      ]
    },
    {
      "cell_type": "code",
      "source": [
        "# Show summary statistics\n",
        "print('\\\n",
        "Summary statistics:')\n",
        "print(df.describe())\n"
      ],
      "metadata": {
        "colab": {
          "base_uri": "https://localhost:8080/"
        },
        "id": "0NVOX7NIUhwn",
        "outputId": "b4ae604c-81d0-4ed9-ec72-f35e142e3517"
      },
      "execution_count": 16,
      "outputs": [
        {
          "output_type": "stream",
          "name": "stdout",
          "text": [
            "Summary statistics:\n",
            "       MESSAGE TYPE                     VALUE DATE        AMOUNT\n",
            "count   4784.000000                           4783  4.783000e+03\n",
            "mean     102.979097  2024-05-18 20:08:28.802007040  8.232133e+05\n",
            "min        1.000000            2024-05-10 00:00:00  1.000000e+00\n",
            "25%      103.000000            2024-05-15 00:00:00  1.186325e+03\n",
            "50%      103.000000            2024-05-20 00:00:00  4.474000e+03\n",
            "75%      103.000000            2024-05-22 00:00:00  1.996557e+04\n",
            "max      104.000000            2024-05-29 00:00:00  3.118810e+08\n",
            "std        1.474851                            NaN  8.936609e+06\n"
          ]
        }
      ]
    },
    {
      "cell_type": "code",
      "source": [
        "# Display the updated data types\n",
        "print('Updated data types:')\n",
        "print(df.dtypes)\n"
      ],
      "metadata": {
        "colab": {
          "base_uri": "https://localhost:8080/"
        },
        "id": "runU2LNGUk6b",
        "outputId": "29f37dfd-16e5-4391-c76c-9030aa93f384"
      },
      "execution_count": 17,
      "outputs": [
        {
          "output_type": "stream",
          "name": "stdout",
          "text": [
            "Updated data types:\n",
            "BENE ACCOUNT               object\n",
            "BENE NAMES                 object\n",
            "REMITTER                   object\n",
            "MESSAGE TYPE                int64\n",
            "SENDER BIC CODE            object\n",
            "SENDERS REF                object\n",
            "VALUE DATE         datetime64[ns]\n",
            "CURR                       object\n",
            "AMOUNT                    float64\n",
            "dtype: object\n"
          ]
        }
      ]
    },
    {
      "cell_type": "code",
      "source": [
        "# Display the first few rows of the cleaned dataframe\n",
        "print('\\\n",
        "First few rows of cleaned dataframe:')\n",
        "print(df.head())"
      ],
      "metadata": {
        "colab": {
          "base_uri": "https://localhost:8080/"
        },
        "id": "XbibqEcMVNqS",
        "outputId": "5046b974-cdcc-42d6-f33b-dac42e4e155c"
      },
      "execution_count": 18,
      "outputs": [
        {
          "output_type": "stream",
          "name": "stdout",
          "text": [
            "First few rows of cleaned dataframe:\n",
            "     BENE ACCOUNT                                         BENE NAMES  \\\n",
            "0  88nb4448551258            AHMED ALI ABDI\\r\\nNAIROBI\\r\\nNAIROBI KE   \n",
            "1        8.89E+13  OLOLO LIMITED\\r\\nSOUTH OF NAIROBI NATIONAL PAR...   \n",
            "2  883884789512nb                         BHALLA POOJA JUGAL KISHORE   \n",
            "3        8.89E+13  KITICH CAMP LIMITED (USD)\\r\\nIM BANK KENYA 302...   \n",
            "4  8198nb53131211                         TWIGA CAR HIRE   TOURS LTD   \n",
            "\n",
            "                                            REMITTER  MESSAGE TYPE  \\\n",
            "0  SAFARI INTERNATIONAL GROCERY STORE\\r\\nLLC\\r\\n1...           103   \n",
            "1  THE WILD SOURCE, LLC 801 14TH\\r\\nSTREET GOLDEN...           103   \n",
            "2  INTERNATIONAL ORGANIZATION FOR\\r\\nMIGRATION-PA...           104   \n",
            "3  OLIVER MARKHAM 53 RODWELL ROAD LOND\\r\\nON SE22...           103   \n",
            "4  COLLECTIVE RISING LEADERSHIP\\r\\n1015 2939 VAN ...           103   \n",
            "\n",
            "  SENDER BIC CODE       SENDERS REF VALUE DATE CURR   AMOUNT  \n",
            "0     CHASUS33XXX      3572954145ES 2024-05-24  USD  3500.00  \n",
            "1     BKTRUS33XXX  C332289OCP852424 2024-05-24  USD   646.00  \n",
            "2     SCBLUS33XXX          2.82E+15 2024-05-24  USD  5741.79  \n",
            "3     CHASUS33XXX      8616388145JO 2024-05-24  USD   616.00  \n",
            "4     CITIUS33XXX    G8141454423381 2024-05-24  USD  8304.00  \n"
          ]
        }
      ]
    },
    {
      "cell_type": "code",
      "source": [
        "# Calculate average amount\n",
        "avg_amount = df['AMOUNT'].mean()\n",
        "print(f'Average amount: ${avg_amount:,.2f}')"
      ],
      "metadata": {
        "colab": {
          "base_uri": "https://localhost:8080/"
        },
        "id": "3pxajvdRVZ79",
        "outputId": "54fe4163-6f43-49b4-f234-196867c42b7d"
      },
      "execution_count": 19,
      "outputs": [
        {
          "output_type": "stream",
          "name": "stdout",
          "text": [
            "Average amount: $823,213.30\n"
          ]
        }
      ]
    },
    {
      "cell_type": "code",
      "source": [
        "# Count unique beneficiaries\n",
        "unique_beneficiaries = df['BENE NAMES'].nunique()\n",
        "print(f'Number of unique beneficiaries: {unique_beneficiaries}')"
      ],
      "metadata": {
        "colab": {
          "base_uri": "https://localhost:8080/"
        },
        "id": "yfBBU5B-VqEe",
        "outputId": "ab6725d4-76fa-480a-bf95-12d11a1a7eba"
      },
      "execution_count": 20,
      "outputs": [
        {
          "output_type": "stream",
          "name": "stdout",
          "text": [
            "Number of unique beneficiaries: 4038\n"
          ]
        }
      ]
    },
    {
      "cell_type": "code",
      "source": [
        "# Most common currency\n",
        "most_common_currency = df['CURR'].mode().values[0]\n",
        "print(f'Most common currency: {most_common_currency}')\n"
      ],
      "metadata": {
        "colab": {
          "base_uri": "https://localhost:8080/"
        },
        "id": "wSOxfWXkV9VP",
        "outputId": "d8a7baad-2bb8-49a5-e97e-bb68c6ced5d5"
      },
      "execution_count": 21,
      "outputs": [
        {
          "output_type": "stream",
          "name": "stdout",
          "text": [
            "Most common currency: USD\n"
          ]
        }
      ]
    },
    {
      "cell_type": "code",
      "source": [
        "# Display the first few rows of the dataframe\n",
        "print(df.head())\n",
        "\n",
        "# Convert 'VALUE DATE' to datetime\n",
        "df['VALUE DATE'] = pd.to_datetime(df['VALUE DATE'], format='%d-%b-%y')\n"
      ],
      "metadata": {
        "colab": {
          "base_uri": "https://localhost:8080/"
        },
        "id": "s4h7owUlWeFw",
        "outputId": "2133a696-84f2-40e4-d322-a4828eca45b3"
      },
      "execution_count": 25,
      "outputs": [
        {
          "output_type": "stream",
          "name": "stdout",
          "text": [
            "     BENE ACCOUNT                                         BENE NAMES  \\\n",
            "0  88nb4448551258            AHMED ALI ABDI\\r\\nNAIROBI\\r\\nNAIROBI KE   \n",
            "1        8.89E+13  OLOLO LIMITED\\r\\nSOUTH OF NAIROBI NATIONAL PAR...   \n",
            "2  883884789512nb                         BHALLA POOJA JUGAL KISHORE   \n",
            "3        8.89E+13  KITICH CAMP LIMITED (USD)\\r\\nIM BANK KENYA 302...   \n",
            "4  8198nb53131211                         TWIGA CAR HIRE   TOURS LTD   \n",
            "\n",
            "                                            REMITTER  MESSAGE TYPE  \\\n",
            "0  SAFARI INTERNATIONAL GROCERY STORE\\r\\nLLC\\r\\n1...           103   \n",
            "1  THE WILD SOURCE, LLC 801 14TH\\r\\nSTREET GOLDEN...           103   \n",
            "2  INTERNATIONAL ORGANIZATION FOR\\r\\nMIGRATION-PA...           104   \n",
            "3  OLIVER MARKHAM 53 RODWELL ROAD LOND\\r\\nON SE22...           103   \n",
            "4  COLLECTIVE RISING LEADERSHIP\\r\\n1015 2939 VAN ...           103   \n",
            "\n",
            "  SENDER BIC CODE       SENDERS REF VALUE DATE CURR   AMOUNT  \n",
            "0     CHASUS33XXX      3572954145ES 2024-05-24  USD  3500.00  \n",
            "1     BKTRUS33XXX  C332289OCP852424 2024-05-24  USD   646.00  \n",
            "2     SCBLUS33XXX          2.82E+15 2024-05-24  USD  5741.79  \n",
            "3     CHASUS33XXX      8616388145JO 2024-05-24  USD   616.00  \n",
            "4     CITIUS33XXX    G8141454423381 2024-05-24  USD  8304.00  \n"
          ]
        }
      ]
    },
    {
      "cell_type": "code",
      "source": [
        "\n",
        "import pandas as pd\n",
        "import matplotlib.pyplot as plt\n",
        "\n",
        "# Assuming df is already loaded and cleaned from the previous step\n",
        "# Group by currency and calculate sum and count\n",
        "currency_breakdown = df.groupby('CURR').agg({\n",
        "    'AMOUNT': ['sum', 'count', 'mean']\n",
        "}).reset_index()\n",
        "\n",
        "# Rename columns for clarity\n",
        "currency_breakdown.columns = ['Currency', 'Total Amount', 'Transaction Count', 'Average Amount']\n",
        "\n",
        "# Sort by Total Amount in descending order\n",
        "currency_breakdown = currency_breakdown.sort_values('Total Amount', ascending=False)\n",
        "\n",
        "# Calculate percentage of total amount\n",
        "total_amount = currency_breakdown['Total Amount'].sum()\n",
        "currency_breakdown['Percentage'] = (currency_breakdown['Total Amount'] / total_amount) * 100\n",
        "\n",
        "# Format the columns\n",
        "currency_breakdown['Total Amount'] = currency_breakdown['Total Amount'].apply(lambda x: f'${x:,.2f}')\n",
        "currency_breakdown['Average Amount'] = currency_breakdown['Average Amount'].apply(lambda x: f'${x:,.2f}')\n",
        "currency_breakdown['Percentage'] = currency_breakdown['Percentage'].apply(lambda x: f'{x:.2f}%')\n",
        "\n",
        "# Display the breakdown\n",
        "print(currency_breakdown.to_string(index=False))\n",
        "\n",
        "print('done')\n"
      ],
      "metadata": {
        "colab": {
          "base_uri": "https://localhost:8080/"
        },
        "id": "gNog20JLWiZ6",
        "outputId": "727dd33f-0466-40b8-aa2e-433ce71244d4"
      },
      "execution_count": 37,
      "outputs": [
        {
          "output_type": "stream",
          "name": "stdout",
          "text": [
            "Currency      Total Amount  Transaction Count Average Amount Percentage\n",
            "     KES $3,849,442,620.24                537  $7,168,422.01     97.77%\n",
            "     USD    $71,155,096.97               3551     $20,038.04      1.81%\n",
            "     EUR     $7,186,094.44                466     $15,420.80      0.18%\n",
            "     GBP     $5,003,381.88                172     $29,089.43      0.13%\n",
            "     ZAR     $3,835,250.48                 24    $159,802.10      0.10%\n",
            "     JPY       $430,389.00                  1    $430,389.00      0.01%\n",
            "     AUD       $159,898.00                 11     $14,536.18      0.00%\n",
            "     CHF       $102,496.04                 12      $8,541.34      0.00%\n",
            "     AED        $85,006.53                  5     $17,001.31      0.00%\n",
            "     CAD        $29,000.00                  4      $7,250.00      0.00%\n",
            "done\n"
          ]
        }
      ]
    },
    {
      "cell_type": "markdown",
      "source": [
        "### *Creating a histogram to show the transactions per currency*"
      ],
      "metadata": {
        "id": "v0-vAMbjdJz9"
      }
    },
    {
      "cell_type": "code",
      "source": [
        "# Create a bar plot of transaction counts by currency\n",
        "plt.figure(figsize=(12, 6))\n",
        "currency_counts = df['CURR'].value_counts()\n",
        "currency_counts.plot(kind='bar')\n",
        "plt.title('Number of Transactions by Currency')\n",
        "plt.xlabel('Currency')\n",
        "plt.ylabel('Number of Transactions')\n",
        "plt.xticks(rotation=45)\n",
        "plt.tight_layout()\n",
        "plt.show()"
      ],
      "metadata": {
        "colab": {
          "base_uri": "https://localhost:8080/",
          "height": 442
        },
        "id": "6U3anvpcdczu",
        "outputId": "6e5eaf87-9026-4e9e-cee9-8f71f0a5e2e3"
      },
      "execution_count": 36,
      "outputs": [
        {
          "output_type": "display_data",
          "data": {
            "text/plain": [
              "<Figure size 1200x600 with 1 Axes>"
            ],
            "image/png": "[encoded data removed]"
          },
          "metadata": {}
        }
      ]
    },
    {
      "cell_type": "markdown",
      "source": [
        "### *Creating* a piechart *italicized text*"
      ],
      "metadata": {
        "id": "7Y3FGUK1cc-8"
      }
    },
    {
      "cell_type": "code",
      "source": [
        "# Create a pie chart of total amounts by currency\n",
        "plt.figure(figsize=(6, 4))\n",
        "plt.pie(currency_breakdown['Total Amount'].str.replace('[\\$,]', '', regex=True).astype(float),\n",
        "        labels=currency_breakdown['Currency'], autopct='%1.1f%%')\n",
        "plt.title('Distribution of Total Transaction Amounts by Currency')\n",
        "plt.axis('equal')\n",
        "plt.show()\n"
      ],
      "metadata": {
        "colab": {
          "base_uri": "https://localhost:8080/",
          "height": 367
        },
        "id": "OCRw6XiCcz2T",
        "outputId": "7ff63ecc-8887-4321-b96e-bf1c52f8679e"
      },
      "execution_count": 39,
      "outputs": [
        {
          "output_type": "display_data",
          "data": {
            "text/plain": [
              "<Figure size 600x400 with 1 Axes>"
            ],
            "image/png": "[encoded data removed]"
          },
          "metadata": {}
        }
      ]
    },
    {
      "cell_type": "markdown",
      "source": [
        "### Creating Pots to better understand the transactons"
      ],
      "metadata": {
        "id": "sOA1WFMFYnzB"
      }
    },
    {
      "cell_type": "markdown",
      "source": [],
      "metadata": {
        "id": "WOW4TwuNctuD"
      }
    },
    {
      "cell_type": "code",
      "source": [
        "\n",
        "import pandas as pd\n",
        "import matplotlib.pyplot as plt\n",
        "import seaborn as sns\n",
        "\n",
        "# Assuming df is already loaded\n",
        "# Group by currency and calculate sum and count\n",
        "currency_breakdown = df.groupby('CURR').agg({\n",
        "    'AMOUNT': ['sum', 'count']\n",
        "}).reset_index()\n",
        "\n",
        "# Rename columns for clarity\n",
        "currency_breakdown.columns = ['Currency', 'Total Amount', 'Transaction Count']\n",
        "\n",
        "# Sort by Total Amount in descending order\n",
        "currency_breakdown = currency_breakdown.sort_values('Total Amount', ascending=False)\n",
        "\n",
        "# Create a bar plot of total amounts by currency\n",
        "plt.figure(figsize=(12, 6))\n",
        "sns.barplot(x='Currency', y='Total Amount', data=currency_breakdown)\n",
        "plt.title('Total Transaction Amounts by Currency')\n",
        "plt.xlabel('Currency')\n",
        "plt.ylabel('Total Amount')\n",
        "plt.xticks(rotation=45)\n",
        "plt.tight_layout()\n",
        "plt.show()\n",
        "\n",
        "\n",
        "print(\"This bar plot shows the total transaction amounts by currency.\")\n",
        "print(\"As we observed in the table earlier, KES (Kenyan Shilling) dominates\")\n",
        "print(\"the transactions with the highest total amount, followed by USD (US Dollar)\")\n",
        "print(\"The other currencies have significantly smaller total amounts in comparison.\")\n"
      ],
      "metadata": {
        "colab": {
          "base_uri": "https://localhost:8080/",
          "height": 511
        },
        "id": "xTEHV_xlY91o",
        "outputId": "21ad0722-e651-4590-ed8a-eee8f3651102"
      },
      "execution_count": 33,
      "outputs": [
        {
          "output_type": "display_data",
          "data": {
            "text/plain": [
              "<Figure size 1200x600 with 1 Axes>"
            ],
            "image/png": "[encoded data removed]"
          },
          "metadata": {}
        },
        {
          "output_type": "stream",
          "name": "stdout",
          "text": [
            "This bar plot shows the total transaction amounts by currency.\n",
            "As we observed in the table earlier, KES (Kenyan Shilling) dominates\n",
            "the transactions with the highest total amount, followed by USD (US Dollar)\n",
            "The other currencies have significantly smaller total amounts in comparison.\n"
          ]
        }
      ]
    },
    {
      "cell_type": "code",
      "source": [
        "# Create a bar plot of transaction counts by currency\n",
        "plt.figure(figsize=(12, 6))\n",
        "sns.barplot(x='Currency', y='Transaction Count', data=currency_breakdown)\n",
        "plt.title('Number of Transactions by Currency')\n",
        "plt.xlabel('Currency')\n",
        "plt.ylabel('Number of Transactions')\n",
        "plt.xticks(rotation=45)\n",
        "plt.tight_layout()\n",
        "plt.show()\n",
        "\n",
        "print(\"This second bar plot displays the number of transactions by currency.\")\n",
        "print(\"Interestingly, we can see that USD has the highest number of transactions,\")\n",
        "print(\"followed by KES.\")\n",
        "print(\"This confirms our earlier observation that while KES has the highest total amount,\")\n",
        "print(\"USD has more frequent but smaller transactions.\")"
      ],
      "metadata": {
        "colab": {
          "base_uri": "https://localhost:8080/",
          "height": 528
        },
        "id": "0Ut6JZQ1Zkh1",
        "outputId": "1dec9028-c982-4372-d415-0fbd3ef61cf2"
      },
      "execution_count": 32,
      "outputs": [
        {
          "output_type": "display_data",
          "data": {
            "text/plain": [
              "<Figure size 1200x600 with 1 Axes>"
            ],
            "image/png": "[encoded data removed]"
          },
          "metadata": {}
        },
        {
          "output_type": "stream",
          "name": "stdout",
          "text": [
            "This second bar plot displays the number of transactions by currency.\n",
            "Interestingly, we can see that USD has the highest number of transactions,\n",
            "followed by KES.\n",
            "This confirms our earlier observation that while KES has the highest total amount,\n",
            "USD has more frequent but smaller transactions.\n"
          ]
        }
      ]
    }
  ]
}